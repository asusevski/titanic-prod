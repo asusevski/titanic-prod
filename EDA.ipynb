{
 "cells": [
  {
   "cell_type": "code",
   "execution_count": 36,
   "metadata": {},
   "outputs": [],
   "source": [
    "import matplotlib.pyplot as plt\n",
    "import pandas as pd\n",
    "from sklearn.base import BaseEstimator, TransformerMixin\n",
    "from sklearn.impute import SimpleImputer\n",
    "from sklearn.model_selection import StratifiedShuffleSplit\n",
    "from sklearn.metrics import accuracy_score\n",
    "from sklearn.pipeline import Pipeline\n",
    "from sklearn.preprocessing import OneHotEncoder\n",
    "from sklearn.preprocessing import StandardScaler\n",
    "import xgboost as xgb"
   ]
  },
  {
   "cell_type": "code",
   "execution_count": 37,
   "metadata": {},
   "outputs": [],
   "source": [
    "df_train = pd.read_csv('./data/train.csv')\n",
    "df_generated1 = pd.read_csv('./data/generated_data/generated_dataset0.csv')\n",
    "df_generated2 = pd.read_csv('./data/generated_data/generated_dataset1.csv')\n",
    "df_generated3 = pd.read_csv('./data/generated_data/generated_dataset2.csv')\n",
    "df_generated4 = pd.read_csv('./data/generated_data/generated_dataset3.csv')\n",
    "df_generated5 = pd.read_csv('./data/generated_data/generated_dataset4.csv')\n",
    "df_generated6 = pd.read_csv('./data/generated_data/generated_dataset5.csv')\n",
    "df_generated7 = pd.read_csv('./data/generated_data/generated_dataset6.csv')\n",
    "df_generated8 = pd.read_csv('./data/generated_data/generated_dataset7.csv')\n",
    "df_generated9 = pd.read_csv('./data/generated_data/generated_dataset8.csv')\n",
    "df_generated10 = pd.read_csv('./data/generated_data/generated_dataset9.csv')"
   ]
  },
  {
   "cell_type": "code",
   "execution_count": 38,
   "metadata": {},
   "outputs": [],
   "source": [
    "X = [\n",
    "    df_generated1['Survived'].value_counts()[0],\n",
    "    df_generated2['Survived'].value_counts()[0],\n",
    "    df_generated3['Survived'].value_counts()[0],\n",
    "    df_generated4['Survived'].value_counts()[0],\n",
    "    df_generated5['Survived'].value_counts()[0],\n",
    "    df_generated6['Survived'].value_counts()[0],\n",
    "    df_generated7['Survived'].value_counts()[0],\n",
    "    df_generated8['Survived'].value_counts()[0],\n",
    "    df_generated9['Survived'].value_counts()[0],\n",
    "    df_generated10['Survived'].value_counts()[0]\n",
    "]"
   ]
  },
  {
   "cell_type": "code",
   "execution_count": 39,
   "metadata": {},
   "outputs": [
    {
     "data": {
      "text/plain": [
       "[<matplotlib.lines.Line2D at 0x7f0c6cf998e0>]"
      ]
     },
     "execution_count": 39,
     "metadata": {},
     "output_type": "execute_result"
    },
    {
     "data": {
      "image/png": "[encoded data removed]",
      "text/plain": [
       "<Figure size 640x480 with 1 Axes>"
      ]
     },
     "metadata": {},
     "output_type": "display_data"
    }
   ],
   "source": [
    "plt.plot(X)"
   ]
  },
  {
   "cell_type": "markdown",
   "metadata": {},
   "source": [
    "## Training the model on training data:"
   ]
  },
  {
   "cell_type": "code",
   "execution_count": 29,
   "metadata": {},
   "outputs": [],
   "source": [
    "split = StratifiedShuffleSplit(n_splits=1, test_size=0.2, random_state=5)\n",
    "for train_index, test_index in split.split(df_train, df_train[\"Pclass\"]):\n",
    "    train_split = df_train.loc[train_index]\n",
    "    test_split = df_train.loc[test_index]\n",
    "\n",
    "\n",
    "class Dropper(BaseEstimator, TransformerMixin):\n",
    "    \n",
    "    def fit(self, X, y=None):\n",
    "        return self\n",
    "    \n",
    "    def transform(self, X):\n",
    "        return X.drop(columns=['PassengerId', 'Name', 'Ticket', 'Cabin'])\n",
    "\n",
    "\n",
    "class Imputer(BaseEstimator, TransformerMixin):\n",
    "    \n",
    "    def fit(self, X, y=None):\n",
    "        return self\n",
    "    \n",
    "    def transform(self, X):\n",
    "        imputer = SimpleImputer(strategy=\"median\")\n",
    "        X['Age'] = imputer.fit_transform(X[['Age']])\n",
    "        X['Fare'] = imputer.fit_transform(X[['Fare']])\n",
    "        \n",
    "        X['Embarked'] = X['Embarked'].fillna('S')\n",
    "        return X\n",
    "\n",
    "\n",
    "class FeatureEncoder(BaseEstimator, TransformerMixin):\n",
    "    \n",
    "    def fit(self, X, y=None):\n",
    "        return self\n",
    "    \n",
    "    def transform(self, X):\n",
    "        # One-hot encodings:\n",
    "        # Note that we'll have to drop the categorical cols at the end\n",
    "        \n",
    "        # Encoding Sex:\n",
    "        encoder = OneHotEncoder()\n",
    "        matrix = encoder.fit_transform(X[['Sex']]).toarray()\n",
    "        # Encoding Female into a one-hot vector\n",
    "        X[encoder.categories_[0][0]] = matrix[:, 0]\n",
    "        \n",
    "        # Encoding Pclass:\n",
    "        encoder = OneHotEncoder()\n",
    "        matrix = encoder.fit_transform(X[['Pclass']]).toarray()\n",
    "        # Encoding Pclass 1 and 2 into one-hot vectors\n",
    "        for idx, col in enumerate(encoder.categories_[0][:-1]):\n",
    "            X[\"Pclass\" + str(col)] = matrix[:, idx]\n",
    "            \n",
    "        # Encoding Embarked:\n",
    "        encoder = OneHotEncoder()\n",
    "        matrix = encoder.fit_transform(X[['Embarked']]).toarray()\n",
    "        # Encoding Pclass 1 and 2 into one-hot vectors\n",
    "        for idx, col in enumerate(encoder.categories_[0][:-1]):\n",
    "            X[col] = matrix[:, idx]\n",
    "            \n",
    "        return X.drop(columns=['Sex', 'Pclass', 'Embarked'])\n",
    "\n",
    "\n",
    "class Scaler(BaseEstimator, TransformerMixin):\n",
    "    \n",
    "    def fit(self, X, y=None):\n",
    "        return self\n",
    "    \n",
    "    def transform(self, X):\n",
    "        scaler = StandardScaler()\n",
    "        X['Age'] = scaler.fit_transform(X[['Age']])\n",
    "        \n",
    "        X['Fare'] = scaler.fit_transform(X[['Fare']])\n",
    "        return X\n",
    "\n",
    "\n",
    "pipe = Pipeline([\n",
    "    (\"dropper\", Dropper()),\n",
    "    (\"imputer\", Imputer()),\n",
    "    (\"feature_encoder\", FeatureEncoder()),\n",
    "    (\"scaler\", Scaler())\n",
    "])\n",
    "\n",
    "\n",
    "# Preprocessing:\n",
    "df_train_split_preprocessed = pipe.fit_transform(train_split)\n",
    "df_test_split_preprocessed = pipe.fit_transform(test_split)\n",
    "\n",
    "X_train = df_train_split_preprocessed.drop(columns=['Survived'])\n",
    "y_train = df_train_split_preprocessed[[\"Survived\"]]\n",
    "\n",
    "X_test = df_test_split_preprocessed.drop(columns=['Survived'])\n",
    "y_test = df_test_split_preprocessed[[\"Survived\"]]"
   ]
  },
  {
   "cell_type": "code",
   "execution_count": 30,
   "metadata": {},
   "outputs": [
    {
     "data": {
      "text/html": [
       "<style>#sk-container-id-2 {color: black;background-color: white;}#sk-container-id-2 pre{padding: 0;}#sk-container-id-2 div.sk-toggleable {background-color: white;}#sk-container-id-2 label.sk-toggleable__label {cursor: pointer;display: block;width: 100%;margin-bottom: 0;padding: 0.3em;box-sizing: border-box;text-align: center;}#sk-container-id-2 label.sk-toggleable__label-arrow:before {content: \"▸\";float: left;margin-right: 0.25em;color: #696969;}#sk-container-id-2 label.sk-toggleable__label-arrow:hover:before {color: black;}#sk-container-id-2 div.sk-estimator:hover label.sk-toggleable__label-arrow:before {color: black;}#sk-container-id-2 div.sk-toggleable__content {max-height: 0;max-width: 0;overflow: hidden;text-align: left;background-color: #f0f8ff;}#sk-container-id-2 div.sk-toggleable__content pre {margin: 0.2em;color: black;border-radius: 0.25em;background-color: #f0f8ff;}#sk-container-id-2 input.sk-toggleable__control:checked~div.sk-toggleable__content {max-height: 200px;max-width: 100%;overflow: auto;}#sk-container-id-2 input.sk-toggleable__control:checked~label.sk-toggleable__label-arrow:before {content: \"▾\";}#sk-container-id-2 div.sk-estimator input.sk-toggleable__control:checked~label.sk-toggleable__label {background-color: #d4ebff;}#sk-container-id-2 div.sk-label input.sk-toggleable__control:checked~label.sk-toggleable__label {background-color: #d4ebff;}#sk-container-id-2 input.sk-hidden--visually {border: 0;clip: rect(1px 1px 1px 1px);clip: rect(1px, 1px, 1px, 1px);height: 1px;margin: -1px;overflow: hidden;padding: 0;position: absolute;width: 1px;}#sk-container-id-2 div.sk-estimator {font-family: monospace;background-color: #f0f8ff;border: 1px dotted black;border-radius: 0.25em;box-sizing: border-box;margin-bottom: 0.5em;}#sk-container-id-2 div.sk-estimator:hover {background-color: #d4ebff;}#sk-container-id-2 div.sk-parallel-item::after {content: \"\";width: 100%;border-bottom: 1px solid gray;flex-grow: 1;}#sk-container-id-2 div.sk-label:hover label.sk-toggleable__label {background-color: #d4ebff;}#sk-container-id-2 div.sk-serial::before {content: \"\";position: absolute;border-left: 1px solid gray;box-sizing: border-box;top: 0;bottom: 0;left: 50%;z-index: 0;}#sk-container-id-2 div.sk-serial {display: flex;flex-direction: column;align-items: center;background-color: white;padding-right: 0.2em;padding-left: 0.2em;position: relative;}#sk-container-id-2 div.sk-item {position: relative;z-index: 1;}#sk-container-id-2 div.sk-parallel {display: flex;align-items: stretch;justify-content: center;background-color: white;position: relative;}#sk-container-id-2 div.sk-item::before, #sk-container-id-2 div.sk-parallel-item::before {content: \"\";position: absolute;border-left: 1px solid gray;box-sizing: border-box;top: 0;bottom: 0;left: 50%;z-index: -1;}#sk-container-id-2 div.sk-parallel-item {display: flex;flex-direction: column;z-index: 1;position: relative;background-color: white;}#sk-container-id-2 div.sk-parallel-item:first-child::after {align-self: flex-end;width: 50%;}#sk-container-id-2 div.sk-parallel-item:last-child::after {align-self: flex-start;width: 50%;}#sk-container-id-2 div.sk-parallel-item:only-child::after {width: 0;}#sk-container-id-2 div.sk-dashed-wrapped {border: 1px dashed gray;margin: 0 0.4em 0.5em 0.4em;box-sizing: border-box;padding-bottom: 0.4em;background-color: white;}#sk-container-id-2 div.sk-label label {font-family: monospace;font-weight: bold;display: inline-block;line-height: 1.2em;}#sk-container-id-2 div.sk-label-container {text-align: center;}#sk-container-id-2 div.sk-container {/* jupyter's `normalize.less` sets `[hidden] { display: none; }` but bootstrap.min.css set `[hidden] { display: none !important; }` so we also need the `!important` here to be able to override the default hidden behavior on the sphinx rendered scikit-learn.org. See: https://github.com/scikit-learn/scikit-learn/issues/21755 */display: inline-block !important;position: relative;}#sk-container-id-2 div.sk-text-repr-fallback {display: none;}</style><div id=\"sk-container-id-2\" class=\"sk-top-container\"><div class=\"sk-text-repr-fallback\"><pre>XGBClassifier(base_score=0.5, booster=&#x27;gbtree&#x27;, callbacks=None,\n",
       "              colsample_bylevel=1, colsample_bynode=1, colsample_bytree=1,\n",
       "              early_stopping_rounds=None, enable_categorical=False,\n",
       "              eval_metric=None, feature_types=None, gamma=0, gpu_id=-1,\n",
       "              grow_policy=&#x27;depthwise&#x27;, importance_type=None,\n",
       "              interaction_constraints=&#x27;&#x27;, learning_rate=0.300000012,\n",
       "              max_bin=256, max_cat_threshold=64, max_cat_to_onehot=4,\n",
       "              max_delta_step=0, max_depth=6, max_leaves=0, min_child_weight=1,\n",
       "              missing=nan, monotone_constraints=&#x27;()&#x27;, n_estimators=100,\n",
       "              n_jobs=0, num_parallel_tree=1, predictor=&#x27;auto&#x27;, random_state=0, ...)</pre><b>In a Jupyter environment, please rerun this cell to show the HTML representation or trust the notebook. <br />On GitHub, the HTML representation is unable to render, please try loading this page with nbviewer.org.</b></div><div class=\"sk-container\" hidden><div class=\"sk-item\"><div class=\"sk-estimator sk-toggleable\"><input class=\"sk-toggleable__control sk-hidden--visually\" id=\"sk-estimator-id-2\" type=\"checkbox\" checked><label for=\"sk-estimator-id-2\" class=\"sk-toggleable__label sk-toggleable__label-arrow\">XGBClassifier</label><div class=\"sk-toggleable__content\"><pre>XGBClassifier(base_score=0.5, booster=&#x27;gbtree&#x27;, callbacks=None,\n",
       "              colsample_bylevel=1, colsample_bynode=1, colsample_bytree=1,\n",
       "              early_stopping_rounds=None, enable_categorical=False,\n",
       "              eval_metric=None, feature_types=None, gamma=0, gpu_id=-1,\n",
       "              grow_policy=&#x27;depthwise&#x27;, importance_type=None,\n",
       "              interaction_constraints=&#x27;&#x27;, learning_rate=0.300000012,\n",
       "              max_bin=256, max_cat_threshold=64, max_cat_to_onehot=4,\n",
       "              max_delta_step=0, max_depth=6, max_leaves=0, min_child_weight=1,\n",
       "              missing=nan, monotone_constraints=&#x27;()&#x27;, n_estimators=100,\n",
       "              n_jobs=0, num_parallel_tree=1, predictor=&#x27;auto&#x27;, random_state=0, ...)</pre></div></div></div></div></div>"
      ],
      "text/plain": [
       "XGBClassifier(base_score=0.5, booster='gbtree', callbacks=None,\n",
       "              colsample_bylevel=1, colsample_bynode=1, colsample_bytree=1,\n",
       "              early_stopping_rounds=None, enable_categorical=False,\n",
       "              eval_metric=None, feature_types=None, gamma=0, gpu_id=-1,\n",
       "              grow_policy='depthwise', importance_type=None,\n",
       "              interaction_constraints='', learning_rate=0.300000012,\n",
       "              max_bin=256, max_cat_threshold=64, max_cat_to_onehot=4,\n",
       "              max_delta_step=0, max_depth=6, max_leaves=0, min_child_weight=1,\n",
       "              missing=nan, monotone_constraints='()', n_estimators=100,\n",
       "              n_jobs=0, num_parallel_tree=1, predictor='auto', random_state=0, ...)"
      ]
     },
     "execution_count": 30,
     "metadata": {},
     "output_type": "execute_result"
    }
   ],
   "source": [
    "clf = xgb.XGBClassifier()\n",
    "clf.fit(X_train, y_train)"
   ]
  },
  {
   "cell_type": "code",
   "execution_count": 31,
   "metadata": {},
   "outputs": [
    {
     "name": "stdout",
     "output_type": "stream",
     "text": [
      "Accuracy on hold-out test set: 0.7597765363128491\n"
     ]
    }
   ],
   "source": [
    "y_pred = clf.predict(X_test)\n",
    "print(f\"Accuracy on hold-out test set: {accuracy_score(y_test, y_pred)}\")"
   ]
  },
  {
   "cell_type": "markdown",
   "metadata": {},
   "source": [
    "## Testing model performance on each of the generated datasets:"
   ]
  },
  {
   "cell_type": "code",
   "execution_count": 40,
   "metadata": {},
   "outputs": [],
   "source": [
    "X_gen1 = df_generated1.drop(columns=['Survived'])\n",
    "y_gen1 = df_generated1[[\"Survived\"]]\n",
    "\n",
    "X_gen2 = df_generated2.drop(columns=['Survived'])\n",
    "y_gen2 = df_generated2[[\"Survived\"]]\n",
    "\n",
    "X_gen3 = df_generated3.drop(columns=['Survived'])\n",
    "y_gen3 = df_generated3[[\"Survived\"]]\n",
    "\n",
    "X_gen4 = df_generated4.drop(columns=['Survived'])\n",
    "y_gen4 = df_generated4[[\"Survived\"]]\n",
    "\n",
    "X_gen5 = df_generated5.drop(columns=['Survived'])\n",
    "y_gen5 = df_generated5[[\"Survived\"]]\n",
    "\n",
    "X_gen6 = df_generated6.drop(columns=['Survived'])\n",
    "y_gen6 = df_generated6[[\"Survived\"]]\n",
    "\n",
    "X_gen7 = df_generated7.drop(columns=['Survived'])\n",
    "y_gen7 = df_generated7[[\"Survived\"]]\n",
    "\n",
    "X_gen8 = df_generated8.drop(columns=['Survived'])\n",
    "y_gen8 = df_generated8[[\"Survived\"]]\n",
    "\n",
    "X_gen9 = df_generated9.drop(columns=['Survived'])\n",
    "y_gen9 = df_generated9[[\"Survived\"]]\n",
    "\n",
    "X_gen10 = df_generated10.drop(columns=['Survived'])\n",
    "y_gen10 = df_generated10[[\"Survived\"]]"
   ]
  },
  {
   "cell_type": "code",
   "execution_count": 41,
   "metadata": {},
   "outputs": [],
   "source": [
    "y_pred_gen1 = clf.predict(X_gen1)\n",
    "y_pred_gen2 = clf.predict(X_gen2)\n",
    "y_pred_gen3 = clf.predict(X_gen3)\n",
    "y_pred_gen4 = clf.predict(X_gen4)\n",
    "y_pred_gen5 = clf.predict(X_gen5)\n",
    "y_pred_gen6 = clf.predict(X_gen6)\n",
    "y_pred_gen7 = clf.predict(X_gen7)\n",
    "y_pred_gen8 = clf.predict(X_gen8)\n",
    "y_pred_gen9 = clf.predict(X_gen9)\n",
    "y_pred_gen10 = clf.predict(X_gen10)"
   ]
  },
  {
   "cell_type": "code",
   "execution_count": 42,
   "metadata": {},
   "outputs": [],
   "source": [
    "X = [\n",
    "    accuracy_score(y_gen1, y_pred_gen1),\n",
    "    accuracy_score(y_gen2, y_pred_gen2),\n",
    "    accuracy_score(y_gen3, y_pred_gen3),\n",
    "    accuracy_score(y_gen4, y_pred_gen4),\n",
    "    accuracy_score(y_gen5, y_pred_gen5),\n",
    "    accuracy_score(y_gen6, y_pred_gen6),\n",
    "    accuracy_score(y_gen7, y_pred_gen7),\n",
    "    accuracy_score(y_gen8, y_pred_gen8),\n",
    "    accuracy_score(y_gen9, y_pred_gen9),\n",
    "    accuracy_score(y_gen10, y_pred_gen10)\n",
    "]"
   ]
  },
  {
   "cell_type": "code",
   "execution_count": 43,
   "metadata": {},
   "outputs": [
    {
     "data": {
      "text/plain": [
       "[<matplotlib.lines.Line2D at 0x7f0c6cf71f40>]"
      ]
     },
     "execution_count": 43,
     "metadata": {},
     "output_type": "execute_result"
    },
    {
     "data": {
      "image/png": "[encoded data removed]",
      "text/plain": [
       "<Figure size 640x480 with 1 Axes>"
      ]
     },
     "metadata": {},
     "output_type": "display_data"
    }
   ],
   "source": [
    "plt.plot(X)"
   ]
  }
 ],
 "metadata": {
  "kernelspec": {
   "display_name": "Python 3 (ipykernel)",
   "language": "python",
   "name": "python3"
  },
  "language_info": {
   "codemirror_mode": {
    "name": "ipython",
    "version": 3
   },
   "file_extension": ".py",
   "mimetype": "text/x-python",
   "name": "python",
   "nbconvert_exporter": "python",
   "pygments_lexer": "ipython3",
   "version": "3.8.10"
  }
 },
 "nbformat": 4,
 "nbformat_minor": 4
}
